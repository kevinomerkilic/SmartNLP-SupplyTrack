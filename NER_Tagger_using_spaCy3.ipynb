{
 "cells": [
  {
   "cell_type": "markdown",
   "metadata": {
    "id": "yx4MGHwxW4Pq"
   },
   "source": [
    "This notebook was programmed by Tristram Dacayan locally on Google Colaboratory."
   ]
  },
  {
   "cell_type": "markdown",
   "metadata": {
    "id": "t91eogVrXIlv"
   },
   "source": [
    "## Section I.  Installing Dependencies"
   ]
  },
  {
   "cell_type": "markdown",
   "metadata": {
    "id": "6LkumWa9Xee5"
   },
   "source": [
    "To start, we must first download and install the Spacy libraries as this is the main library that we will be using to train and use the Named Entity Recognition Tagger. "
   ]
  },
  {
   "cell_type": "code",
   "execution_count": 1,
   "metadata": {
    "colab": {
     "base_uri": "https://localhost:8080/"
    },
    "id": "yvKrTO9Vh-1C",
    "outputId": "fef91c46-c64c-4058-addf-00801075b289"
   },
   "outputs": [
    {
     "name": "stdout",
     "output_type": "stream",
     "text": [
      "\u001b[2K     \u001b[90m━━━━━━━━━━━━━━━━━━━━━━━━━━━━━━━━━━━━━━━\u001b[0m \u001b[32m193.7/193.7 kB\u001b[0m \u001b[31m5.0 MB/s\u001b[0m eta \u001b[36m0:00:00\u001b[0m\n",
      "\u001b[2K     \u001b[90m━━━━━━━━━━━━━━━━━━━━━━━━━━━━━━━━━━━━━━━━\u001b[0m \u001b[32m7.0/7.0 MB\u001b[0m \u001b[31m60.0 MB/s\u001b[0m eta \u001b[36m0:00:00\u001b[0m\n",
      "\u001b[2K     \u001b[90m━━━━━━━━━━━━━━━━━━━━━━━━━━━━━━━━━━━━━━━━\u001b[0m \u001b[32m1.2/1.2 MB\u001b[0m \u001b[31m43.1 MB/s\u001b[0m eta \u001b[36m0:00:00\u001b[0m\n",
      "\u001b[2K     \u001b[90m━━━━━━━━━━━━━━━━━━━━━━━━━━━━━━━━━━━━━━\u001b[0m \u001b[32m200.1/200.1 kB\u001b[0m \u001b[31m19.9 MB/s\u001b[0m eta \u001b[36m0:00:00\u001b[0m\n",
      "\u001b[2K     \u001b[90m━━━━━━━━━━━━━━━━━━━━━━━━━━━━━━━━━━━━━━━━\u001b[0m \u001b[32m7.8/7.8 MB\u001b[0m \u001b[31m55.7 MB/s\u001b[0m eta \u001b[36m0:00:00\u001b[0m\n",
      "\u001b[?25h"
     ]
    }
   ],
   "source": [
    "!pip install -U spacy -q\n",
    "!pip install -U spacy-transformers -q"
   ]
  },
  {
   "cell_type": "code",
   "execution_count": 2,
   "metadata": {
    "colab": {
     "base_uri": "https://localhost:8080/"
    },
    "id": "FiSMdWwh2mLp",
    "outputId": "333dd0f4-10a1-4d94-b12c-91e47ead96e4"
   },
   "outputs": [
    {
     "name": "stdout",
     "output_type": "stream",
     "text": [
      "2023-04-21 21:26:52.928364: I tensorflow/core/platform/cpu_feature_guard.cc:182] This TensorFlow binary is optimized to use available CPU instructions in performance-critical operations.\n",
      "To enable the following instructions: AVX2 FMA, in other operations, rebuild TensorFlow with the appropriate compiler flags.\n",
      "2023-04-21 21:26:53.935057: W tensorflow/compiler/tf2tensorrt/utils/py_utils.cc:38] TF-TRT Warning: Could not find TensorRT\n",
      "2023-04-21 21:26:55.248201: I tensorflow/compiler/xla/stream_executor/cuda/cuda_gpu_executor.cc:996] successful NUMA node read from SysFS had negative value (-1), but there must be at least one NUMA node, so returning NUMA node zero. See more at https://github.com/torvalds/linux/blob/v6.0/Documentation/ABI/testing/sysfs-bus-pci#L344-L355\n",
      "2023-04-21 21:26:55.248744: I tensorflow/compiler/xla/stream_executor/cuda/cuda_gpu_executor.cc:996] successful NUMA node read from SysFS had negative value (-1), but there must be at least one NUMA node, so returning NUMA node zero. See more at https://github.com/torvalds/linux/blob/v6.0/Documentation/ABI/testing/sysfs-bus-pci#L344-L355\n",
      "2023-04-21 21:26:55.248929: I tensorflow/compiler/xla/stream_executor/cuda/cuda_gpu_executor.cc:996] successful NUMA node read from SysFS had negative value (-1), but there must be at least one NUMA node, so returning NUMA node zero. See more at https://github.com/torvalds/linux/blob/v6.0/Documentation/ABI/testing/sysfs-bus-pci#L344-L355\n",
      "\u001b[1m\n",
      "============================== Info about spaCy ==============================\u001b[0m\n",
      "\n",
      "spaCy version    3.5.2                         \n",
      "Location         /usr/local/lib/python3.9/dist-packages/spacy\n",
      "Platform         Linux-5.10.147+-x86_64-with-glibc2.31\n",
      "Python version   3.9.16                        \n",
      "Pipelines        en_core_web_sm (3.5.0)        \n",
      "\n"
     ]
    }
   ],
   "source": [
    "!python -m spacy info"
   ]
  },
  {
   "cell_type": "markdown",
   "metadata": {
    "id": "yrvilTlsXte1"
   },
   "source": [
    "To save our progress, we mount our google drive to the notebook so we can use the model after we train it."
   ]
  },
  {
   "cell_type": "code",
   "execution_count": 3,
   "metadata": {
    "colab": {
     "base_uri": "https://localhost:8080/"
    },
    "id": "Q22g2ul5pFWl",
    "outputId": "0082ff22-8616-417b-b7b2-8fa5d4ff68e6"
   },
   "outputs": [
    {
     "name": "stdout",
     "output_type": "stream",
     "text": [
      "Mounted at /content/drive\n"
     ]
    }
   ],
   "source": [
    "from google.colab import drive\n",
    "drive.mount('/content/drive')"
   ]
  },
  {
   "cell_type": "markdown",
   "metadata": {
    "id": "Bt5FtqE4bUAA"
   },
   "source": [
    "## Section II. Generating the dataset"
   ]
  },
  {
   "cell_type": "markdown",
   "metadata": {
    "id": "QYtRsc6xX8Un"
   },
   "source": [
    "We first need to initialize a blank pipeline that we will use for our NER task. We will also initialize a DocBin object to use for our annotations. We use a DocBin in particular because it is easier to use for debugging in case an error occurs."
   ]
  },
  {
   "cell_type": "code",
   "execution_count": 4,
   "metadata": {
    "id": "OvASNIln2uXA"
   },
   "outputs": [],
   "source": [
    "import spacy\n",
    "from spacy.tokens import DocBin\n",
    "from tqdm import tqdm\n",
    "import json\n",
    "\n",
    "nlp = spacy.blank(\"en\")\n",
    "db = DocBin()"
   ]
  },
  {
   "cell_type": "code",
   "execution_count": 5,
   "metadata": {
    "id": "ZXbNVliL3LnD"
   },
   "outputs": [],
   "source": [
    "f = open(\"train_data_updated_4801.json\")\n",
    "TRAIN_DATA = json.load(f)\n",
    "\n",
    "f = open(\"valid_data_updated_4801.json\")\n",
    "VALID_DATA = json.load(f)"
   ]
  },
  {
   "cell_type": "markdown",
   "metadata": {
    "id": "afCLVxaxZqab"
   },
   "source": [
    "The for loop here is used to gather all the annotations for each entry in the annotation file. The annotations are in the format (starting_position, ending_position, label) which is then appended to an ents variable and added to the DocBin object. If, however, the annotation overlaps or conflicts with another annotation, the entry is then skipped due to how the Spacy library works."
   ]
  },
  {
   "cell_type": "code",
   "execution_count": 13,
   "metadata": {
    "colab": {
     "base_uri": "https://localhost:8080/"
    },
    "id": "YqFBsklX4VrN",
    "outputId": "8d0238ad-3ecb-4630-8f1d-e5b86bc9c2a7"
   },
   "outputs": [
    {
     "name": "stderr",
     "output_type": "stream",
     "text": [
      "100%|██████████| 79/79 [00:00<00:00, 5216.80it/s]\n"
     ]
    }
   ],
   "source": [
    "skipped = []\n",
    "for text, annot in tqdm(TRAIN_DATA['annotations']): \n",
    "    doc = nlp.make_doc(text) \n",
    "    ents = []\n",
    "    for start, end, label in annot[\"entities\"]:\n",
    "        span = doc.char_span(start, end, label=label, alignment_mode=\"contract\")\n",
    "        if span is None:\n",
    "            print(\"Skipping entity\")\n",
    "        else:\n",
    "            ents.append(span)\n",
    "    \n",
    "    # Manually Fix this later (CURRENT SKIPPED #: 21/167)\n",
    "    try:\n",
    "      doc.ents = ents \n",
    "      db.add(doc)\n",
    "    except ValueError:\n",
    "      skipped.append(annot)\n",
    "\n",
    "db.to_disk(\"./training_data.spacy\") # save the docbin object"
   ]
  },
  {
   "cell_type": "code",
   "execution_count": null,
   "metadata": {
    "id": "8CM_X9t2uWZ7"
   },
   "outputs": [],
   "source": [
    "# Run to find skipped entries\n",
    "print(skipped)"
   ]
  },
  {
   "cell_type": "markdown",
   "metadata": {
    "id": "TR_ntPQeabkz"
   },
   "source": [
    "The same process is then done on the validation set."
   ]
  },
  {
   "cell_type": "code",
   "execution_count": 14,
   "metadata": {
    "colab": {
     "base_uri": "https://localhost:8080/"
    },
    "id": "rbAXvcxK84KA",
    "outputId": "504f403a-6054-4bd2-987a-88f486fcc2ba"
   },
   "outputs": [
    {
     "name": "stderr",
     "output_type": "stream",
     "text": [
      "100%|██████████| 30/30 [00:00<00:00, 2451.18it/s]\n"
     ]
    }
   ],
   "source": [
    "skipped_valid = []\n",
    "for text, annot in tqdm(VALID_DATA['annotations']): \n",
    "    doc = nlp.make_doc(text) \n",
    "    ents = []\n",
    "    for start, end, label in annot[\"entities\"]:\n",
    "        span = doc.char_span(start, end, label=label, alignment_mode=\"contract\")\n",
    "        if span is None:\n",
    "            print(\"Skipping entity\")\n",
    "        else:\n",
    "            ents.append(span)\n",
    "    \n",
    "    # Manually Fix this later (CURRENT SKIPPED #: 1/16)\n",
    "    try:\n",
    "      doc.ents = ents \n",
    "      db.add(doc)\n",
    "    except ValueError:\n",
    "      skipped_valid.append(annot)\n",
    "\n",
    "db.to_disk(\"./valid_data.spacy\") # save the docbin object"
   ]
  },
  {
   "cell_type": "code",
   "execution_count": 15,
   "metadata": {
    "colab": {
     "base_uri": "https://localhost:8080/"
    },
    "id": "tFuQLijWuiQQ",
    "outputId": "a757e0d8-d35e-4ee9-cc33-09e2b34b7ffd"
   },
   "outputs": [
    {
     "name": "stdout",
     "output_type": "stream",
     "text": [
      "[{'entities': [[0, 4, 'BRAND'], [5, 21, 'MODEL'], [28, 46, 'ISSUE'], [51, 80, 'ISSUE'], [67, 80, 'COMPONENT']]}, {'entities': [[0, 6, 'BRAND'], [55, 60, 'BRAND'], [7, 21, 'MODEL'], [39, 73, 'ISSUE'], [85, 101, 'ISSUE'], [61, 73, 'COMPONENT']]}, {'entities': [[0, 9, 'BRAND'], [77, 84, 'BRAND'], [10, 26, 'MODEL'], [43, 72, 'ISSUE'], [59, 72, 'COMPONENT'], [85, 97, 'COMPONENT']]}]\n"
     ]
    }
   ],
   "source": [
    "# Run to find skipped entries\n",
    "print(skipped_valid)"
   ]
  },
  {
   "cell_type": "markdown",
   "metadata": {
    "id": "RMm0KsZUaxDG"
   },
   "source": [
    "This section debugs and checks whether or not the spacy files that were generated in the previous step are valid by counting how many entities are in the files."
   ]
  },
  {
   "cell_type": "code",
   "execution_count": 19,
   "metadata": {
    "colab": {
     "base_uri": "https://localhost:8080/"
    },
    "id": "isNQqDPHUb_1",
    "outputId": "968e0d34-3776-4aca-cf73-2eadc7d81fde"
   },
   "outputs": [
    {
     "name": "stdout",
     "output_type": "stream",
     "text": [
      "TRAIN docs: 315 with 1474 entities\n",
      "DEV docs: 342 with 1666 entities\n"
     ]
    }
   ],
   "source": [
    "from spacy.lang.en import English\n",
    "\n",
    "# Check Data Validity\n",
    "nlp = English()\n",
    "\n",
    "doc_bin = DocBin().from_disk(\"./training_data.spacy\")\n",
    "docs = list(doc_bin.get_docs(nlp.vocab))\n",
    "entities = 0\n",
    "for doc in docs:\n",
    "    entities += len(doc.ents)\n",
    "print(f\"TRAIN docs: {len(docs)} with {entities} entities\")\n",
    "\n",
    "doc_bin = DocBin().from_disk(\"./valid_data.spacy\")\n",
    "docs = list(doc_bin.get_docs(nlp.vocab))\n",
    "entities = 0\n",
    "for doc in docs:\n",
    "    entities += len(doc.ents)\n",
    "print(f\"DEV docs: {len(docs)} with {entities} entities\")"
   ]
  },
  {
   "cell_type": "code",
   "execution_count": 20,
   "metadata": {
    "colab": {
     "base_uri": "https://localhost:8080/",
     "height": 35
    },
    "id": "0JZ8PbhSQ94u",
    "outputId": "69767744-3175-422c-e0ae-fb9fb00ad785"
   },
   "outputs": [
    {
     "data": {
      "application/vnd.google.colaboratory.intrinsic+json": {
       "type": "string"
      },
      "text/plain": [
       "'UTF-8'"
      ]
     },
     "execution_count": 20,
     "metadata": {},
     "output_type": "execute_result"
    }
   ],
   "source": [
    "import locale\n",
    "locale.getpreferredencoding = lambda: \"UTF-8\"\n",
    "locale.getpreferredencoding()"
   ]
  },
  {
   "cell_type": "markdown",
   "metadata": {
    "id": "opi37KZfbJIV"
   },
   "source": [
    "## Section III. Training\n",
    "Using the previous spacy training files that we generated, we can use spacy's integrated training command in the CLI to train our ouwn custom NER model. First, we must create the config file that will be used for the training."
   ]
  },
  {
   "cell_type": "markdown",
   "metadata": {
    "id": "NP9IrwEmbtnd"
   },
   "source": [
    "This config file specifies that our pipeline will be in English, used for the NER task, and will be optimized for efficiency over accuracy. However, we can change the optimization metric if the accuracy is too low."
   ]
  },
  {
   "cell_type": "code",
   "execution_count": 21,
   "metadata": {
    "colab": {
     "base_uri": "https://localhost:8080/"
    },
    "id": "l5-DI3Fq6Nvd",
    "outputId": "10e7ea5b-d231-4a91-9573-bc3ac7f42434"
   },
   "outputs": [
    {
     "name": "stdout",
     "output_type": "stream",
     "text": [
      "2023-04-21 21:31:34.319234: W tensorflow/compiler/tf2tensorrt/utils/py_utils.cc:38] TF-TRT Warning: Could not find TensorRT\n",
      "\u001b[38;5;4mℹ Generated config template specific for your use case\u001b[0m\n",
      "- Language: en\n",
      "- Pipeline: ner\n",
      "- Optimize for: efficiency\n",
      "- Hardware: GPU\n",
      "- Transformer: roberta-base\n",
      "\u001b[38;5;2m✔ Auto-filled config with all values\u001b[0m\n",
      "\u001b[38;5;2m✔ Saved config\u001b[0m\n",
      "config.cfg\n",
      "You can now add your data and train your pipeline:\n",
      "python -m spacy train config.cfg --paths.train ./train.spacy --paths.dev ./dev.spacy\n"
     ]
    }
   ],
   "source": [
    "!python -m spacy init config config.cfg --lang en --pipeline ner --optimize efficiency --gpu --force"
   ]
  },
  {
   "cell_type": "markdown",
   "metadata": {
    "id": "ZPdE0B7ib_j4"
   },
   "source": [
    "This line trains the model (simple as that). We chose to run it with the default amount of epochs."
   ]
  },
  {
   "cell_type": "code",
   "execution_count": 22,
   "metadata": {
    "colab": {
     "base_uri": "https://localhost:8080/"
    },
    "id": "AtXgO_LM7kvX",
    "outputId": "e58f96b0-1725-4203-9b2f-8551005833e8"
   },
   "outputs": [
    {
     "name": "stdout",
     "output_type": "stream",
     "text": [
      "2023-04-21 21:31:47.476028: W tensorflow/compiler/tf2tensorrt/utils/py_utils.cc:38] TF-TRT Warning: Could not find TensorRT\n",
      "\u001b[38;5;4mℹ Saving to output directory:\n",
      "/content/drive/MyDrive/notebooks/NLP/output\u001b[0m\n",
      "\u001b[38;5;4mℹ Using GPU: 0\u001b[0m\n",
      "\u001b[1m\n",
      "=========================== Initializing pipeline ===========================\u001b[0m\n",
      "[2023-04-21 21:31:57,827] [INFO] Set up nlp object from config\n",
      "[2023-04-21 21:31:57,838] [INFO] Pipeline: ['transformer', 'ner']\n",
      "[2023-04-21 21:31:57,841] [INFO] Created vocabulary\n",
      "[2023-04-21 21:31:57,842] [INFO] Finished initializing nlp object\n",
      "Downloading (…)lve/main/config.json: 100% 481/481 [00:00<00:00, 71.8kB/s]\n",
      "Downloading (…)olve/main/vocab.json: 100% 899k/899k [00:00<00:00, 3.57MB/s]\n",
      "Downloading (…)olve/main/merges.txt: 100% 456k/456k [00:00<00:00, 5.15MB/s]\n",
      "Downloading (…)/main/tokenizer.json: 100% 1.36M/1.36M [00:00<00:00, 4.46MB/s]\n",
      "Downloading pytorch_model.bin: 100% 501M/501M [00:04<00:00, 100MB/s]\n",
      "Some weights of the model checkpoint at roberta-base were not used when initializing RobertaModel: ['lm_head.dense.bias', 'lm_head.dense.weight', 'lm_head.layer_norm.bias', 'lm_head.layer_norm.weight', 'lm_head.bias', 'lm_head.decoder.weight']\n",
      "- This IS expected if you are initializing RobertaModel from the checkpoint of a model trained on another task or with another architecture (e.g. initializing a BertForSequenceClassification model from a BertForPreTraining model).\n",
      "- This IS NOT expected if you are initializing RobertaModel from the checkpoint of a model that you expect to be exactly identical (initializing a BertForSequenceClassification model from a BertForSequenceClassification model).\n",
      "[2023-04-21 21:32:27,650] [INFO] Initialized pipeline components: ['transformer', 'ner']\n",
      "\u001b[38;5;2m✔ Initialized pipeline\u001b[0m\n",
      "\u001b[1m\n",
      "============================= Training pipeline =============================\u001b[0m\n",
      "\u001b[38;5;4mℹ Pipeline: ['transformer', 'ner']\u001b[0m\n",
      "\u001b[38;5;4mℹ Initial learn rate: 0.0\u001b[0m\n",
      "E    #       LOSS TRANS...  LOSS NER  ENTS_F  ENTS_P  ENTS_R  SCORE \n",
      "---  ------  -------------  --------  ------  ------  ------  ------\n",
      "  0       0         411.06    502.02    0.52    0.35    1.08    0.01\n",
      " 50     200       62339.84  64861.43   99.07   99.34   98.80    0.99\n",
      "100     400           5.73      5.46   99.01   99.28   98.74    0.99\n",
      "150     600          87.10     46.22   97.80   98.01   97.60    0.98\n",
      "200     800          80.25     59.31   99.07   99.34   98.80    0.99\n",
      "250    1000           4.73      2.00   99.07   99.34   98.80    0.99\n",
      "300    1200           0.00      0.00   99.07   99.34   98.80    0.99\n",
      "350    1400         107.69     98.90   98.89   99.21   98.56    0.99\n",
      "400    1600           0.57      0.93   98.89   99.21   98.56    0.99\n",
      "450    1800          14.18     11.38   99.01   99.28   98.74    0.99\n",
      "\u001b[38;5;2m✔ Saved pipeline to output directory\u001b[0m\n",
      "/content/drive/MyDrive/notebooks/NLP/output/model-last\n"
     ]
    }
   ],
   "source": [
    "!python -m spacy train config.cfg --output /content/drive/MyDrive/notebooks/NLP/output --paths.train ./training_data.spacy --paths.dev ./valid_data.spacy --gpu-id 0"
   ]
  },
  {
   "cell_type": "markdown",
   "metadata": {
    "id": "3FLb02YYZxR8"
   },
   "source": [
    "# Section IV. Run model inference/ Model Testing\n"
   ]
  },
  {
   "cell_type": "code",
   "execution_count": 23,
   "metadata": {
    "id": "kSu27kDIBnsY"
   },
   "outputs": [],
   "source": [
    "# Add path to the model\n",
    "nlp_ner = spacy.load(\"/content/drive/MyDrive/notebooks/NLP/output/model-best\")"
   ]
  },
  {
   "cell_type": "code",
   "execution_count": 26,
   "metadata": {
    "id": "nM3OyXJNzZcI"
   },
   "outputs": [],
   "source": [
    "# Test 1\n",
    "doc = nlp_ner('''My MacBook Pro is overheating and crashing while running Adobe Premiere Pro with its Intel Core i9 processor. \n",
    "The Samsung Galaxy S20 is experiencing frequent app crashes and freezing when using Snapchat with its Qualcomm Snapdragon processor. \n",
    "My Dell XPS is running slow and struggling to handle multiple programs at once with its 8GB RAM. \n",
    "The Google Pixel 5 is experiencing connectivity issues and dropping calls frequently with its Qualcomm Snapdragon 765G chipset. \n",
    "The Lenovo ThinkPad is producing a loud fan noise and heating up when running heavy software with its Intel Core i7 processor.''')"
   ]
  },
  {
   "cell_type": "code",
   "execution_count": 28,
   "metadata": {
    "id": "Zzw7FGBjIaXb"
   },
   "outputs": [],
   "source": [
    "# Test 2\n",
    "doc = nlp_ner(''' The Asus ROG laptop is experiencing black screens and crashes when playing Cyberpunk 2077 with its NVIDIA RTX 3080 graphics card.\"\n",
    "\"My iPhone 12 Pro Max is draining its battery quickly and heating up while using the camera with its A14 Bionic chip.\"\n",
    "\"The LG OLED TV is displaying flickering and color distortion when playing high-resolution content with its HDMI 2.1 port.\"\n",
    "\"My Windows desktop is freezing and showing error messages when running virtual machines with its AMD Ryzen processor.\"\n",
    "\"The Sony WH-1000XM4 headphones are producing crackling and popping sounds when connected to Bluetooth devices with its LDAC codec.''')"
   ]
  },
  {
   "cell_type": "code",
   "execution_count": 29,
   "metadata": {
    "colab": {
     "base_uri": "https://localhost:8080/",
     "height": 227
    },
    "id": "yZXUR0z_M3gf",
    "outputId": "0a0053f3-0a5e-4113-cbbc-3b3d819ec3bd"
   },
   "outputs": [
    {
     "data": {
      "text/html": [
       "<span class=\"tex2jax_ignore\"><div class=\"entities\" style=\"line-height: 2.5; direction: ltr\"> </br>The \n",
       "<mark class=\"entity\" style=\"background: #ddd; padding: 0.45em 0.6em; margin: 0 0.25em; line-height: 1; border-radius: 0.35em;\">\n",
       "    Asus\n",
       "    <span style=\"font-size: 0.8em; font-weight: bold; line-height: 1; border-radius: 0.35em; vertical-align: middle; margin-left: 0.5rem\">BRAND</span>\n",
       "</mark>\n",
       " \n",
       "<mark class=\"entity\" style=\"background: #ddd; padding: 0.45em 0.6em; margin: 0 0.25em; line-height: 1; border-radius: 0.35em;\">\n",
       "    ROG laptop\n",
       "    <span style=\"font-size: 0.8em; font-weight: bold; line-height: 1; border-radius: 0.35em; vertical-align: middle; margin-left: 0.5rem\">MODEL</span>\n",
       "</mark>\n",
       " is experiencing \n",
       "<mark class=\"entity\" style=\"background: #ddd; padding: 0.45em 0.6em; margin: 0 0.25em; line-height: 1; border-radius: 0.35em;\">\n",
       "    black screens and crashes when playing\n",
       "    <span style=\"font-size: 0.8em; font-weight: bold; line-height: 1; border-radius: 0.35em; vertical-align: middle; margin-left: 0.5rem\">ISSUE</span>\n",
       "</mark>\n",
       " Cyberpunk 2077 with its \n",
       "<mark class=\"entity\" style=\"background: #ddd; padding: 0.45em 0.6em; margin: 0 0.25em; line-height: 1; border-radius: 0.35em;\">\n",
       "    NVIDIA\n",
       "    <span style=\"font-size: 0.8em; font-weight: bold; line-height: 1; border-radius: 0.35em; vertical-align: middle; margin-left: 0.5rem\">BRAND</span>\n",
       "</mark>\n",
       " \n",
       "<mark class=\"entity\" style=\"background: #ddd; padding: 0.45em 0.6em; margin: 0 0.25em; line-height: 1; border-radius: 0.35em;\">\n",
       "    RTX 3080 graphics card\n",
       "    <span style=\"font-size: 0.8em; font-weight: bold; line-height: 1; border-radius: 0.35em; vertical-align: middle; margin-left: 0.5rem\">COMPONENT</span>\n",
       "</mark>\n",
       ".&quot;</br>&quot;My \n",
       "<mark class=\"entity\" style=\"background: #ddd; padding: 0.45em 0.6em; margin: 0 0.25em; line-height: 1; border-radius: 0.35em;\">\n",
       "    iPhone 12 Pro Max\n",
       "    <span style=\"font-size: 0.8em; font-weight: bold; line-height: 1; border-radius: 0.35em; vertical-align: middle; margin-left: 0.5rem\">MODEL</span>\n",
       "</mark>\n",
       " is \n",
       "<mark class=\"entity\" style=\"background: #ddd; padding: 0.45em 0.6em; margin: 0 0.25em; line-height: 1; border-radius: 0.35em;\">\n",
       "    draining\n",
       "    <span style=\"font-size: 0.8em; font-weight: bold; line-height: 1; border-radius: 0.35em; vertical-align: middle; margin-left: 0.5rem\">ISSUE</span>\n",
       "</mark>\n",
       " its \n",
       "<mark class=\"entity\" style=\"background: #ddd; padding: 0.45em 0.6em; margin: 0 0.25em; line-height: 1; border-radius: 0.35em;\">\n",
       "    battery\n",
       "    <span style=\"font-size: 0.8em; font-weight: bold; line-height: 1; border-radius: 0.35em; vertical-align: middle; margin-left: 0.5rem\">COMPONENT</span>\n",
       "</mark>\n",
       " quickly and \n",
       "<mark class=\"entity\" style=\"background: #ddd; padding: 0.45em 0.6em; margin: 0 0.25em; line-height: 1; border-radius: 0.35em;\">\n",
       "    heating up while using\n",
       "    <span style=\"font-size: 0.8em; font-weight: bold; line-height: 1; border-radius: 0.35em; vertical-align: middle; margin-left: 0.5rem\">ISSUE</span>\n",
       "</mark>\n",
       " the camera with its \n",
       "<mark class=\"entity\" style=\"background: #ddd; padding: 0.45em 0.6em; margin: 0 0.25em; line-height: 1; border-radius: 0.35em;\">\n",
       "    A14 Bionic chip\n",
       "    <span style=\"font-size: 0.8em; font-weight: bold; line-height: 1; border-radius: 0.35em; vertical-align: middle; margin-left: 0.5rem\">COMPONENT</span>\n",
       "</mark>\n",
       ".&quot;</br>&quot;The \n",
       "<mark class=\"entity\" style=\"background: #ddd; padding: 0.45em 0.6em; margin: 0 0.25em; line-height: 1; border-radius: 0.35em;\">\n",
       "    LG\n",
       "    <span style=\"font-size: 0.8em; font-weight: bold; line-height: 1; border-radius: 0.35em; vertical-align: middle; margin-left: 0.5rem\">BRAND</span>\n",
       "</mark>\n",
       " \n",
       "<mark class=\"entity\" style=\"background: #ddd; padding: 0.45em 0.6em; margin: 0 0.25em; line-height: 1; border-radius: 0.35em;\">\n",
       "    OLED TV is\n",
       "    <span style=\"font-size: 0.8em; font-weight: bold; line-height: 1; border-radius: 0.35em; vertical-align: middle; margin-left: 0.5rem\">COMPONENT</span>\n",
       "</mark>\n",
       " displaying \n",
       "<mark class=\"entity\" style=\"background: #ddd; padding: 0.45em 0.6em; margin: 0 0.25em; line-height: 1; border-radius: 0.35em;\">\n",
       "    flickering\n",
       "    <span style=\"font-size: 0.8em; font-weight: bold; line-height: 1; border-radius: 0.35em; vertical-align: middle; margin-left: 0.5rem\">ISSUE</span>\n",
       "</mark>\n",
       " and color \n",
       "<mark class=\"entity\" style=\"background: #ddd; padding: 0.45em 0.6em; margin: 0 0.25em; line-height: 1; border-radius: 0.35em;\">\n",
       "    distortion when playing\n",
       "    <span style=\"font-size: 0.8em; font-weight: bold; line-height: 1; border-radius: 0.35em; vertical-align: middle; margin-left: 0.5rem\">ISSUE</span>\n",
       "</mark>\n",
       " high-resolution content with its \n",
       "<mark class=\"entity\" style=\"background: #ddd; padding: 0.45em 0.6em; margin: 0 0.25em; line-height: 1; border-radius: 0.35em;\">\n",
       "    HDMI 2.1 port\n",
       "    <span style=\"font-size: 0.8em; font-weight: bold; line-height: 1; border-radius: 0.35em; vertical-align: middle; margin-left: 0.5rem\">COMPONENT</span>\n",
       "</mark>\n",
       ".&quot;</br>&quot;My \n",
       "<mark class=\"entity\" style=\"background: #ddd; padding: 0.45em 0.6em; margin: 0 0.25em; line-height: 1; border-radius: 0.35em;\">\n",
       "    Windows desktop\n",
       "    <span style=\"font-size: 0.8em; font-weight: bold; line-height: 1; border-radius: 0.35em; vertical-align: middle; margin-left: 0.5rem\">COMPONENT</span>\n",
       "</mark>\n",
       " is \n",
       "<mark class=\"entity\" style=\"background: #ddd; padding: 0.45em 0.6em; margin: 0 0.25em; line-height: 1; border-radius: 0.35em;\">\n",
       "    freezing\n",
       "    <span style=\"font-size: 0.8em; font-weight: bold; line-height: 1; border-radius: 0.35em; vertical-align: middle; margin-left: 0.5rem\">ISSUE</span>\n",
       "</mark>\n",
       " and showing \n",
       "<mark class=\"entity\" style=\"background: #ddd; padding: 0.45em 0.6em; margin: 0 0.25em; line-height: 1; border-radius: 0.35em;\">\n",
       "    error messages when running\n",
       "    <span style=\"font-size: 0.8em; font-weight: bold; line-height: 1; border-radius: 0.35em; vertical-align: middle; margin-left: 0.5rem\">ISSUE</span>\n",
       "</mark>\n",
       " virtual machines with its \n",
       "<mark class=\"entity\" style=\"background: #ddd; padding: 0.45em 0.6em; margin: 0 0.25em; line-height: 1; border-radius: 0.35em;\">\n",
       "    AMD\n",
       "    <span style=\"font-size: 0.8em; font-weight: bold; line-height: 1; border-radius: 0.35em; vertical-align: middle; margin-left: 0.5rem\">BRAND</span>\n",
       "</mark>\n",
       " \n",
       "<mark class=\"entity\" style=\"background: #ddd; padding: 0.45em 0.6em; margin: 0 0.25em; line-height: 1; border-radius: 0.35em;\">\n",
       "    Ryzen processor\n",
       "    <span style=\"font-size: 0.8em; font-weight: bold; line-height: 1; border-radius: 0.35em; vertical-align: middle; margin-left: 0.5rem\">COMPONENT</span>\n",
       "</mark>\n",
       ".&quot;</br>&quot;The \n",
       "<mark class=\"entity\" style=\"background: #ddd; padding: 0.45em 0.6em; margin: 0 0.25em; line-height: 1; border-radius: 0.35em;\">\n",
       "    Sony\n",
       "    <span style=\"font-size: 0.8em; font-weight: bold; line-height: 1; border-radius: 0.35em; vertical-align: middle; margin-left: 0.5rem\">BRAND</span>\n",
       "</mark>\n",
       " \n",
       "<mark class=\"entity\" style=\"background: #ddd; padding: 0.45em 0.6em; margin: 0 0.25em; line-height: 1; border-radius: 0.35em;\">\n",
       "    WH-1000XM4 headphones are\n",
       "    <span style=\"font-size: 0.8em; font-weight: bold; line-height: 1; border-radius: 0.35em; vertical-align: middle; margin-left: 0.5rem\">COMPONENT</span>\n",
       "</mark>\n",
       " producing \n",
       "<mark class=\"entity\" style=\"background: #ddd; padding: 0.45em 0.6em; margin: 0 0.25em; line-height: 1; border-radius: 0.35em;\">\n",
       "    crackling\n",
       "    <span style=\"font-size: 0.8em; font-weight: bold; line-height: 1; border-radius: 0.35em; vertical-align: middle; margin-left: 0.5rem\">ISSUE</span>\n",
       "</mark>\n",
       " and \n",
       "<mark class=\"entity\" style=\"background: #ddd; padding: 0.45em 0.6em; margin: 0 0.25em; line-height: 1; border-radius: 0.35em;\">\n",
       "    popping\n",
       "    <span style=\"font-size: 0.8em; font-weight: bold; line-height: 1; border-radius: 0.35em; vertical-align: middle; margin-left: 0.5rem\">ISSUE</span>\n",
       "</mark>\n",
       " sounds when connected to \n",
       "<mark class=\"entity\" style=\"background: #ddd; padding: 0.45em 0.6em; margin: 0 0.25em; line-height: 1; border-radius: 0.35em;\">\n",
       "    Bluetooth devices\n",
       "    <span style=\"font-size: 0.8em; font-weight: bold; line-height: 1; border-radius: 0.35em; vertical-align: middle; margin-left: 0.5rem\">COMPONENT</span>\n",
       "</mark>\n",
       " with its \n",
       "<mark class=\"entity\" style=\"background: #ddd; padding: 0.45em 0.6em; margin: 0 0.25em; line-height: 1; border-radius: 0.35em;\">\n",
       "    LDAC codec\n",
       "    <span style=\"font-size: 0.8em; font-weight: bold; line-height: 1; border-radius: 0.35em; vertical-align: middle; margin-left: 0.5rem\">COMPONENT</span>\n",
       "</mark>\n",
       ".</br></div></span>"
      ],
      "text/plain": [
       "<IPython.core.display.HTML object>"
      ]
     },
     "metadata": {},
     "output_type": "display_data"
    }
   ],
   "source": [
    "# Visualiser function\n",
    "spacy.displacy.render(doc, style=\"ent\", jupyter=True)"
   ]
  }
 ],
 "metadata": {
  "accelerator": "GPU",
  "colab": {
   "provenance": [],
   "toc_visible": true
  },
  "kernelspec": {
   "display_name": "Python 3 (ipykernel)",
   "language": "python",
   "name": "python3"
  },
  "language_info": {
   "codemirror_mode": {
    "name": "ipython",
    "version": 3
   },
   "file_extension": ".py",
   "mimetype": "text/x-python",
   "name": "python",
   "nbconvert_exporter": "python",
   "pygments_lexer": "ipython3",
   "version": "3.9.16"
  }
 },
 "nbformat": 4,
 "nbformat_minor": 1
}
